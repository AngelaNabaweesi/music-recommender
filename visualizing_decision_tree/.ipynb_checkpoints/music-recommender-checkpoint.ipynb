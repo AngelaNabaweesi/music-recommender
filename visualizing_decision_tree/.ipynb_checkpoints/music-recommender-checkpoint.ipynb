{
 "cells": [
  {
   "cell_type": "code",
   "execution_count": 13,
   "metadata": {},
   "outputs": [],
   "source": [
    "import pandas as pd\n",
    "from sklearn.tree import DecisionTreeClassifier\n",
    "from sklearn.model_selection import train_test_split\n",
    "from sklearn import tree\n",
    "\n",
    "# Importing the data\n",
    "music_data = pd.read_csv('../dataset/music.csv')\n",
    "# Preparing data - X (input set) and y (output set). Note: No cleaning is required since there are no null values or duplicates in the dataset\n",
    "X = music_data.drop(columns=['genre'])\n",
    "y = music_data['genre']\n",
    "# Spliting input and output dataset into input and output training and testing dataset (usually keep 20% of dataset from testing while 80% fro training the model). Note: More data we give the model to train the more accurate predictions it'll make.\n",
    "X_train, X_test, y_train, y_test = train_test_split(X, y, test_size=0.2)\n",
    "\n",
    "# Learning and Predicting\n",
    "# Create a model using a machine learning algorithm like DecisionTree or Neural-Network etc. The choice of algorithm depends on its performance and accuracy\n",
    "model = DecisionTreeClassifier()\n",
    "# Training model with input and output training set\n",
    "model.fit(X_train, y_train)\n",
    "\n",
    "# Exporting decision tree as graphviz (.dot which is a graph description language)\n",
    "tree.export_graphviz(model, out_file='music-recommender.dot', feature_names=['age', 'gender'], class_names=sorted(y.unique()), label='all', rounded=True, filled=True)\n"
   ]
  },
  {
   "cell_type": "code",
   "execution_count": null,
   "metadata": {},
   "outputs": [],
   "source": []
  }
 ],
 "metadata": {
  "kernelspec": {
   "display_name": "Python 3",
   "language": "python",
   "name": "python3"
  },
  "language_info": {
   "codemirror_mode": {
    "name": "ipython",
    "version": 3
   },
   "file_extension": ".py",
   "mimetype": "text/x-python",
   "name": "python",
   "nbconvert_exporter": "python",
   "pygments_lexer": "ipython3",
   "version": "3.7.3"
  }
 },
 "nbformat": 4,
 "nbformat_minor": 2
}
